{
 "cells": [
  {
   "cell_type": "markdown",
   "metadata": {},
   "source": [
    "# Getting Started with Jupyter Lab"
   ]
  },
  {
   "cell_type": "markdown",
   "metadata": {},
   "source": [
    "#### Ryan Bales (@ryanbales)<br>ryan@balesofdata.com"
   ]
  },
  {
   "cell_type": "markdown",
   "metadata": {},
   "source": [
    "***"
   ]
  },
  {
   "cell_type": "markdown",
   "metadata": {},
   "source": [
    "## Types of Cells"
   ]
  },
  {
   "cell_type": "markdown",
   "metadata": {},
   "source": [
    "## Code"
   ]
  },
  {
   "cell_type": "code",
   "execution_count": 10,
   "metadata": {},
   "outputs": [
    {
     "name": "stdout",
     "output_type": "stream",
     "text": [
      "Hello Word 0\n",
      "Hello Word 1\n",
      "Hello Word 2\n",
      "Hello Word 3\n",
      "Hello Word 4\n"
     ]
    }
   ],
   "source": [
    "for i in range(5):\n",
    "    print(\"Hello Word {}\".format(i))"
   ]
  },
  {
   "cell_type": "markdown",
   "metadata": {},
   "source": [
    "## Markdown"
   ]
  },
  {
   "cell_type": "markdown",
   "metadata": {},
   "source": [
    "```python\n",
    "for i in range(5):\n",
    "    print(\"Hello Word {}\".format(i))\n",
    "```"
   ]
  },
  {
   "cell_type": "markdown",
   "metadata": {},
   "source": [
    "[Markdown Cheatsheet](http://assemble.io/docs/Cheatsheet-Markdown.html) <br> Or Checkout **Help -> Markdown Reference**"
   ]
  },
  {
   "cell_type": "markdown",
   "metadata": {},
   "source": [
    "## Raw (Raw NBConvert in Notebook)"
   ]
  },
  {
   "cell_type": "raw",
   "metadata": {},
   "source": [
    "Raw Cells are used to output text directly.  They are not evaulated by the Jupyter Notebook."
   ]
  },
  {
   "cell_type": "markdown",
   "metadata": {},
   "source": [
    "***"
   ]
  },
  {
   "cell_type": "markdown",
   "metadata": {},
   "source": [
    " ## Display forumlas using LaTeX"
   ]
  },
  {
   "cell_type": "markdown",
   "metadata": {},
   "source": [
    "\\\\( P(A \\mid B) = \\frac{P(B \\mid A) \\, P(A)}{P(B)} \\\\)"
   ]
  },
  {
   "cell_type": "markdown",
   "metadata": {},
   "source": [
    "***"
   ]
  },
  {
   "cell_type": "markdown",
   "metadata": {},
   "source": [
    "## Execute Terminal Commands"
   ]
  },
  {
   "cell_type": "code",
   "execution_count": 4,
   "metadata": {},
   "outputs": [
    {
     "name": "stdout",
     "output_type": "stream",
     "text": [
      "total 3528\n",
      "-rw-r--r--   1 rbales  staff    81553 Dec 31 01:37 0_Example_Notebook.ipynb\n",
      "-rw-r--r--   1 rbales  staff     3207 Dec 31 15:54 1_Getting_Started.ipynb\n",
      "-rw-r--r--   1 rbales  staff    11394 Dec 31 01:55 2_AutoComplete.ipynb\n",
      "-rw-r--r--   1 rbales  staff   193825 Dec 31 11:49 3_Debugging.ipynb\n",
      "-rw-r--r--   1 rbales  staff      892 Dec 31 11:53 4_Magic_Commands.ipynb\n",
      "-rw-r--r--   1 rbales  staff  1500269 Dec 31 15:31 5_R_Example.ipynb\n",
      "-rw-r--r--   1 rbales  staff       60 Dec 18 21:53 README.md\n",
      "drwxr-xr-x  10 rbales  staff      320 Dec 30 02:57 \u001b[1m\u001b[36maws_setup\u001b[m\u001b[m/\n",
      "drwxr-xr-x   4 rbales  staff      128 Dec 31 15:43 \u001b[1m\u001b[36mlocal_setup\u001b[m\u001b[m/\n",
      "drwxr-xr-x   2 rbales  staff       64 Dec 30 02:08 \u001b[1m\u001b[36msample_data\u001b[m\u001b[m/\n"
     ]
    }
   ],
   "source": [
    "%ll ."
   ]
  },
  {
   "cell_type": "code",
   "execution_count": 14,
   "metadata": {},
   "outputs": [],
   "source": [
    "a = \"string\"\n",
    "b = 1234"
   ]
  }
 ],
 "metadata": {
  "kernelspec": {
   "display_name": "jupyter-lab-demo",
   "language": "python",
   "name": "jupyter-lab-demo"
  },
  "language_info": {
   "codemirror_mode": {
    "name": "ipython",
    "version": 3
   },
   "file_extension": ".py",
   "mimetype": "text/x-python",
   "name": "python",
   "nbconvert_exporter": "python",
   "pygments_lexer": "ipython3",
   "version": "3.6.5"
  }
 },
 "nbformat": 4,
 "nbformat_minor": 2
}
